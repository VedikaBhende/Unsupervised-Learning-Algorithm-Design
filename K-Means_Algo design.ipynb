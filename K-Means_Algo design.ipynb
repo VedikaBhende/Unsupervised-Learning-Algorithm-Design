{
 "cells": [
  {
   "cell_type": "code",
   "execution_count": 1,
   "id": "de431fe1",
   "metadata": {},
   "outputs": [],
   "source": [
    "# utilities needed for our code\n",
    "import pandas as pd\n",
    "import seaborn as sns\n",
    "import numpy as np\n",
    "import matplotlib.pyplot as plt\n",
    "from sklearn.preprocessing import StandardScaler"
   ]
  },
  {
   "cell_type": "code",
   "execution_count": 2,
   "id": "15950eee",
   "metadata": {},
   "outputs": [
    {
     "data": {
      "text/html": [
       "<div>\n",
       "<style scoped>\n",
       "    .dataframe tbody tr th:only-of-type {\n",
       "        vertical-align: middle;\n",
       "    }\n",
       "\n",
       "    .dataframe tbody tr th {\n",
       "        vertical-align: top;\n",
       "    }\n",
       "\n",
       "    .dataframe thead th {\n",
       "        text-align: right;\n",
       "    }\n",
       "</style>\n",
       "<table border=\"1\" class=\"dataframe\">\n",
       "  <thead>\n",
       "    <tr style=\"text-align: right;\">\n",
       "      <th></th>\n",
       "      <th>Petal.Length</th>\n",
       "      <th>Petal.Width</th>\n",
       "      <th>Species</th>\n",
       "      <th>InitialAssignment</th>\n",
       "    </tr>\n",
       "  </thead>\n",
       "  <tbody>\n",
       "    <tr>\n",
       "      <th>0</th>\n",
       "      <td>1.4</td>\n",
       "      <td>0.2</td>\n",
       "      <td>setosa</td>\n",
       "      <td>1</td>\n",
       "    </tr>\n",
       "    <tr>\n",
       "      <th>1</th>\n",
       "      <td>1.4</td>\n",
       "      <td>0.2</td>\n",
       "      <td>setosa</td>\n",
       "      <td>1</td>\n",
       "    </tr>\n",
       "    <tr>\n",
       "      <th>2</th>\n",
       "      <td>1.3</td>\n",
       "      <td>0.2</td>\n",
       "      <td>setosa</td>\n",
       "      <td>2</td>\n",
       "    </tr>\n",
       "    <tr>\n",
       "      <th>3</th>\n",
       "      <td>1.5</td>\n",
       "      <td>0.2</td>\n",
       "      <td>setosa</td>\n",
       "      <td>3</td>\n",
       "    </tr>\n",
       "    <tr>\n",
       "      <th>4</th>\n",
       "      <td>1.4</td>\n",
       "      <td>0.2</td>\n",
       "      <td>setosa</td>\n",
       "      <td>2</td>\n",
       "    </tr>\n",
       "  </tbody>\n",
       "</table>\n",
       "</div>"
      ],
      "text/plain": [
       "   Petal.Length  Petal.Width Species  InitialAssignment\n",
       "0           1.4          0.2  setosa                  1\n",
       "1           1.4          0.2  setosa                  1\n",
       "2           1.3          0.2  setosa                  2\n",
       "3           1.5          0.2  setosa                  3\n",
       "4           1.4          0.2  setosa                  2"
      ]
     },
     "execution_count": 2,
     "metadata": {},
     "output_type": "execute_result"
    }
   ],
   "source": [
    "# reading the csv file given to us\n",
    "df = pd.read_excel(r\"C:\\Users\\vedik\\OneDrive\\Documents\\csv_data\\FlowerData.xlsx\")\n",
    "df.head()"
   ]
  },
  {
   "cell_type": "code",
   "execution_count": 3,
   "id": "324a0795",
   "metadata": {},
   "outputs": [],
   "source": [
    "def euclidean(centroid, data):\n",
    "    '''\n",
    "    takes in 2 p-dimensional series and returns the distance between the points represented by the series\n",
    "    '''\n",
    "    dist = (centroid-data).map(lambda x:x*x).sum()\n",
    "    return np.sqrt(dist)"
   ]
  },
  {
   "cell_type": "code",
   "execution_count": 4,
   "id": "a070b33d",
   "metadata": {},
   "outputs": [],
   "source": [
    "def KMeans(df):\n",
    "    '''\n",
    "    This function expects a dataframe with scaled data columns plus an additional column with an Initial Cluster guess\n",
    "    \n",
    "    1. Loop over all the centroids, grouped by InitialAssignment\n",
    "    2. Calculate the Euclidean distance that the centroid is away from each datapoint in the cluster it belongs to\n",
    "    3. Square and summation of the distance\n",
    "    4. Repeat the above steps till the InitialAssignment and NewAssignment values are equal.\n",
    "    '''\n",
    "    \n",
    "    columns = [x for x in df.columns if x!=\"InitialAssignment\"]\n",
    "    centroids = df.groupby(\"InitialAssignment\")[columns].mean()\n",
    "    df[\"NewAssignment\"] = df.apply(lambda x:(centroids.apply(lambda y: euclidean(x,y),axis=1).idxmin()),axis=1)\n",
    "    while not df[\"InitialAssignment\"].equals(df[\"NewAssignment\"]):\n",
    "        df[\"InitialAssignment\"] = df[\"NewAssignment\"]\n",
    "        centroids = df.groupby(\"InitialAssignment\")[columns].mean()\n",
    "        df[\"NewAssignment\"] = df.apply(lambda x:(centroids.apply(lambda y: euclidean(x,y),axis=1).idxmin()),axis=1)\n",
    "    return df"
   ]
  },
  {
   "cell_type": "code",
   "execution_count": 5,
   "id": "c4fff49c",
   "metadata": {},
   "outputs": [],
   "source": [
    "# calculate the Objective Value for Intra and Inter Cluster difference\n",
    "def KMeans_objVal(df):\n",
    "    '''\n",
    "    This function expects a dataframe with only 3 columns, InitialAssignment, Petal.Length and Petal.Width\n",
    "    \n",
    "    '''\n",
    "    \n",
    "    columns = [x for x in df.columns if x!=\"InitialAssignment\"]\n",
    "    centroids = df.groupby(\"InitialAssignment\")[columns].mean().reset_index()\n",
    "    global_centroid = df[columns].mean()\n",
    "    df_new = df.merge(centroids, on = \"InitialAssignment\", suffixes=[\"\",\"_centroid\"])\n",
    "    df_new[\"Variance\"] = df_new.apply(lambda x:(x[\"Petal.Length\"]-x[\"Petal.Length_centroid\"])**2+(x[\"Petal.Width\"]-x[\"Petal.Width_centroid\"])**2, \n",
    "                                      axis=1)\n",
    "    \n",
    "    return pd.Series({\"Intra Cluster Variance\":df_new[\"Variance\"].sum(), \n",
    "                      \"Inter Cluster Variance\":centroids.apply(lambda x:euclidean(x, global_centroid)**2,axis=1).sum()})"
   ]
  },
  {
   "cell_type": "code",
   "execution_count": 6,
   "id": "9339c453",
   "metadata": {},
   "outputs": [
    {
     "name": "stdout",
     "output_type": "stream",
     "text": [
      "The objective values BEFORE performing K-Means clustering\n"
     ]
    },
    {
     "data": {
      "text/plain": [
       "Intra Cluster Variance    299.095632\n",
       "Inter Cluster Variance      0.017975\n",
       "dtype: float64"
      ]
     },
     "metadata": {},
     "output_type": "display_data"
    },
    {
     "name": "stdout",
     "output_type": "stream",
     "text": [
      "The objective values AFTER performing K-Means clustering\n"
     ]
    },
    {
     "data": {
      "text/plain": [
       "Intra Cluster Variance    18.026963\n",
       "Inter Cluster Variance     5.727789\n",
       "dtype: float64"
      ]
     },
     "metadata": {},
     "output_type": "display_data"
    }
   ],
   "source": [
    "# standardizing the units of measurement for each dimension  \n",
    "\n",
    "scaledDF = StandardScaler().fit_transform(df[[\"Petal.Length\", \"Petal.Width\"]])\n",
    "scaledDF = pd.DataFrame(scaledDF,columns=[\"Petal.Length\", \"Petal.Width\"])\n",
    "scaledDF[\"InitialAssignment\"] = df[\"InitialAssignment\"]\n",
    "\n",
    "# check the objective values before performing K-Means clustering\n",
    "print(\"The objective values BEFORE performing K-Means clustering\")\n",
    "display(KMeans_objVal(scaledDF))\n",
    "\n",
    "# perform K-Means on our scaled data\n",
    "clusteredDF = KMeans(scaledDF)\n",
    "\n",
    "# check the objective values after performing K-Means clustering\n",
    "print(\"The objective values AFTER performing K-Means clustering\")\n",
    "display(KMeans_objVal(clusteredDF[[\"Petal.Length\", \"Petal.Width\", \"InitialAssignment\"]]))\n",
    "\n",
    "# comparing the previous guesses to our new predictions\n",
    "clusteredDF[\"Initial_Guess\"] = df[\"InitialAssignment\"]\n",
    "\n",
    "# putting back the species column because we did not use it to make predictions\n",
    "clusteredDF[\"Species\"] = df[\"Species\"]"
   ]
  },
  {
   "cell_type": "code",
   "execution_count": 7,
   "id": "11f79fca",
   "metadata": {},
   "outputs": [
    {
     "data": {
      "text/html": [
       "<div>\n",
       "<style scoped>\n",
       "    .dataframe tbody tr th:only-of-type {\n",
       "        vertical-align: middle;\n",
       "    }\n",
       "\n",
       "    .dataframe tbody tr th {\n",
       "        vertical-align: top;\n",
       "    }\n",
       "\n",
       "    .dataframe thead th {\n",
       "        text-align: right;\n",
       "    }\n",
       "</style>\n",
       "<table border=\"1\" class=\"dataframe\">\n",
       "  <thead>\n",
       "    <tr style=\"text-align: right;\">\n",
       "      <th></th>\n",
       "      <th>Petal.Length</th>\n",
       "      <th>Petal.Width</th>\n",
       "      <th>InitialAssignment</th>\n",
       "      <th>NewAssignment</th>\n",
       "      <th>Initial_Guess</th>\n",
       "      <th>Species</th>\n",
       "    </tr>\n",
       "  </thead>\n",
       "  <tbody>\n",
       "    <tr>\n",
       "      <th>0</th>\n",
       "      <td>-1.340227</td>\n",
       "      <td>-1.315444</td>\n",
       "      <td>1</td>\n",
       "      <td>1</td>\n",
       "      <td>1</td>\n",
       "      <td>setosa</td>\n",
       "    </tr>\n",
       "    <tr>\n",
       "      <th>1</th>\n",
       "      <td>-1.340227</td>\n",
       "      <td>-1.315444</td>\n",
       "      <td>1</td>\n",
       "      <td>1</td>\n",
       "      <td>1</td>\n",
       "      <td>setosa</td>\n",
       "    </tr>\n",
       "    <tr>\n",
       "      <th>2</th>\n",
       "      <td>-1.397064</td>\n",
       "      <td>-1.315444</td>\n",
       "      <td>1</td>\n",
       "      <td>1</td>\n",
       "      <td>2</td>\n",
       "      <td>setosa</td>\n",
       "    </tr>\n",
       "    <tr>\n",
       "      <th>3</th>\n",
       "      <td>-1.283389</td>\n",
       "      <td>-1.315444</td>\n",
       "      <td>1</td>\n",
       "      <td>1</td>\n",
       "      <td>3</td>\n",
       "      <td>setosa</td>\n",
       "    </tr>\n",
       "    <tr>\n",
       "      <th>4</th>\n",
       "      <td>-1.340227</td>\n",
       "      <td>-1.315444</td>\n",
       "      <td>1</td>\n",
       "      <td>1</td>\n",
       "      <td>2</td>\n",
       "      <td>setosa</td>\n",
       "    </tr>\n",
       "    <tr>\n",
       "      <th>...</th>\n",
       "      <td>...</td>\n",
       "      <td>...</td>\n",
       "      <td>...</td>\n",
       "      <td>...</td>\n",
       "      <td>...</td>\n",
       "      <td>...</td>\n",
       "    </tr>\n",
       "    <tr>\n",
       "      <th>145</th>\n",
       "      <td>0.819596</td>\n",
       "      <td>1.448832</td>\n",
       "      <td>3</td>\n",
       "      <td>3</td>\n",
       "      <td>1</td>\n",
       "      <td>virginica</td>\n",
       "    </tr>\n",
       "    <tr>\n",
       "      <th>146</th>\n",
       "      <td>0.705921</td>\n",
       "      <td>0.922303</td>\n",
       "      <td>3</td>\n",
       "      <td>3</td>\n",
       "      <td>3</td>\n",
       "      <td>virginica</td>\n",
       "    </tr>\n",
       "    <tr>\n",
       "      <th>147</th>\n",
       "      <td>0.819596</td>\n",
       "      <td>1.053935</td>\n",
       "      <td>3</td>\n",
       "      <td>3</td>\n",
       "      <td>1</td>\n",
       "      <td>virginica</td>\n",
       "    </tr>\n",
       "    <tr>\n",
       "      <th>148</th>\n",
       "      <td>0.933271</td>\n",
       "      <td>1.448832</td>\n",
       "      <td>3</td>\n",
       "      <td>3</td>\n",
       "      <td>2</td>\n",
       "      <td>virginica</td>\n",
       "    </tr>\n",
       "    <tr>\n",
       "      <th>149</th>\n",
       "      <td>0.762758</td>\n",
       "      <td>0.790671</td>\n",
       "      <td>3</td>\n",
       "      <td>3</td>\n",
       "      <td>1</td>\n",
       "      <td>virginica</td>\n",
       "    </tr>\n",
       "  </tbody>\n",
       "</table>\n",
       "<p>150 rows × 6 columns</p>\n",
       "</div>"
      ],
      "text/plain": [
       "     Petal.Length  Petal.Width  InitialAssignment  NewAssignment  \\\n",
       "0       -1.340227    -1.315444                  1              1   \n",
       "1       -1.340227    -1.315444                  1              1   \n",
       "2       -1.397064    -1.315444                  1              1   \n",
       "3       -1.283389    -1.315444                  1              1   \n",
       "4       -1.340227    -1.315444                  1              1   \n",
       "..            ...          ...                ...            ...   \n",
       "145      0.819596     1.448832                  3              3   \n",
       "146      0.705921     0.922303                  3              3   \n",
       "147      0.819596     1.053935                  3              3   \n",
       "148      0.933271     1.448832                  3              3   \n",
       "149      0.762758     0.790671                  3              3   \n",
       "\n",
       "     Initial_Guess    Species  \n",
       "0                1     setosa  \n",
       "1                1     setosa  \n",
       "2                2     setosa  \n",
       "3                3     setosa  \n",
       "4                2     setosa  \n",
       "..             ...        ...  \n",
       "145              1  virginica  \n",
       "146              3  virginica  \n",
       "147              1  virginica  \n",
       "148              2  virginica  \n",
       "149              1  virginica  \n",
       "\n",
       "[150 rows x 6 columns]"
      ]
     },
     "execution_count": 7,
     "metadata": {},
     "output_type": "execute_result"
    }
   ],
   "source": [
    "# the dataframe with the predictions\n",
    "clusteredDF"
   ]
  },
  {
   "cell_type": "code",
   "execution_count": 8,
   "id": "3b6cf4aa",
   "metadata": {},
   "outputs": [
    {
     "data": {
      "image/png": "[encoded data removed]",
      "text/plain": [
       "<Figure size 576x576 with 1 Axes>"
      ]
     },
     "metadata": {},
     "output_type": "display_data"
    }
   ],
   "source": [
    "# plot the predictions we got\n",
    "sns.set(rc={\"figure.figsize\":(8, 8)}) \n",
    "sns.scatterplot(x=clusteredDF[\"Petal.Length\"],\n",
    "                y=clusteredDF[\"Petal.Width\"],\n",
    "                hue=clusteredDF[\"Species\"], # the actual data given to us\n",
    "                style=clusteredDF[\"NewAssignment\"], # my predictions\n",
    "                palette=\"deep\",\n",
    "                legend=None, s=100)\n",
    "plt.show()"
   ]
  },
  {
   "cell_type": "code",
   "execution_count": 9,
   "id": "d375778a",
   "metadata": {},
   "outputs": [
    {
     "data": {
      "image/png": "[encoded data removed]",
      "text/plain": [
       "<Figure size 576x576 with 1 Axes>"
      ]
     },
     "metadata": {},
     "output_type": "display_data"
    }
   ],
   "source": [
    "# plot the Original Dataset for comparison\n",
    "sns.set(rc={\"figure.figsize\":(8, 8)}) \n",
    "sns.scatterplot(x=df[\"Petal.Length\"],\n",
    "                y=df[\"Petal.Width\"],\n",
    "                hue=df[\"Species\"], # the actual data given to us\n",
    "                style=df[\"Species\"], # the first initialized vectors which was given\n",
    "                palette=\"deep\",\n",
    "                s=100)\n",
    "plt.show()"
   ]
  },
  {
   "cell_type": "code",
   "execution_count": null,
   "id": "5c24ba3c",
   "metadata": {},
   "outputs": [],
   "source": []
  },
  {
   "cell_type": "code",
   "execution_count": null,
   "id": "b7788f17",
   "metadata": {},
   "outputs": [],
   "source": []
  }
 ],
 "metadata": {
  "kernelspec": {
   "display_name": "Python 3 (ipykernel)",
   "language": "python",
   "name": "python3"
  },
  "language_info": {
   "codemirror_mode": {
    "name": "ipython",
    "version": 3
   },
   "file_extension": ".py",
   "mimetype": "text/x-python",
   "name": "python",
   "nbconvert_exporter": "python",
   "pygments_lexer": "ipython3",
   "version": "3.9.12"
  }
 },
 "nbformat": 4,
 "nbformat_minor": 5
}
